{
  "cells": [
    {
      "cell_type": "markdown",
      "metadata": {
        "id": "view-in-github",
        "colab_type": "text"
      },
      "source": [
        "<a href=\"https://colab.research.google.com/github/omg0809/Agent-Motion-Preditction/blob/main/RESNET_agent_motion_prediction.ipynb\" target=\"_parent\"><img src=\"https://colab.research.google.com/assets/colab-badge.svg\" alt=\"Open In Colab\"/></a>"
      ]
    },
    {
      "cell_type": "code",
      "execution_count": null,
      "metadata": {
        "id": "vXovobiwLyDG"
      },
      "outputs": [],
      "source": [
        "!pip install l5kit\n",
        "from typing import Dict\n",
        "\n",
        "from tempfile import gettempdir\n",
        "import matplotlib.pyplot as plt\n",
        "import numpy as np\n",
        "import torch\n",
        "from torch import nn, optim\n",
        "from torch.utils.data import DataLoader, random_split\n",
        "from torchvision.models.resnet import resnet50\n",
        "from tqdm import tqdm\n",
        "\n",
        "from l5kit.configs import load_config_data\n",
        "from l5kit.data import LocalDataManager, ChunkedDataset\n",
        "from l5kit.dataset import AgentDataset, EgoDataset\n",
        "from l5kit.rasterization import build_rasterizer\n",
        "from l5kit.evaluation import write_pred_csv, compute_metrics_csv, read_gt_csv, create_chopped_dataset\n",
        "from l5kit.evaluation.chop_dataset import MIN_FUTURE_STEPS\n",
        "from l5kit.evaluation.metrics import neg_multi_log_likelihood, time_displace\n",
        "from l5kit.geometry import transform_points\n",
        "from l5kit.visualization import PREDICTED_POINTS_COLOR, TARGET_POINTS_COLOR, draw_trajectory\n",
        "from prettytable import PrettyTable\n",
        "from pathlib import Path\n",
        "\n",
        "import os"
      ]
    },
    {
      "cell_type": "code",
      "source": [
        "from google.colab import drive\n",
        "drive.mount('/content/drive')"
      ],
      "metadata": {
        "id": "CdtRdZuBhvIA",
        "outputId": "effec422-5f79-4baf-8a2a-eea659929e03",
        "colab": {
          "base_uri": "https://localhost:8080/"
        }
      },
      "execution_count": null,
      "outputs": [
        {
          "output_type": "stream",
          "name": "stdout",
          "text": [
            "Mounted at /content/drive\n"
          ]
        }
      ]
    },
    {
      "cell_type": "code",
      "execution_count": null,
      "metadata": {
        "id": "pMQquGYbLyDU",
        "outputId": "ae3bb446-7416-452c-debe-b9d305120b2b",
        "colab": {
          "base_uri": "https://localhost:8080/"
        }
      },
      "outputs": [
        {
          "output_type": "stream",
          "name": "stdout",
          "text": [
            "{'format_version': 4, 'model_params': {'model_architecture': 'resnet50', 'history_num_frames': 0, 'future_num_frames': 50, 'step_time': 0.1, 'render_ego_history': True}, 'raster_params': {'raster_size': [224, 224], 'pixel_size': [0.5, 0.5], 'ego_center': [0.25, 0.5], 'map_type': 'py_semantic', 'satellite_map_key': 'aerial_map/aerial_map.png', 'semantic_map_key': 'semantic_map/semantic_map.pb', 'dataset_meta_key': 'meta.json', 'filter_agents_threshold': 0.5, 'disable_traffic_light_faces': False, 'set_origin_to_bottom': True}, 'train_data_loader': {'key': 'scenes/sample.zarr', 'batch_size': 16, 'shuffle': True, 'num_workers': 16}, 'val_data_loader': {'key': 'scenes/sample.zarr', 'batch_size': 16, 'shuffle': False, 'num_workers': 16}, 'train_params': {'checkpoint_every_n_steps': 10000, 'max_num_steps': 9300, 'eval_every_n_steps': 10000}}\n"
          ]
        }
      ],
      "source": [
        "# set env variable for data\n",
        "os.environ[\"L5KIT_DATA_FOLDER\"] = \"/content/drive/MyDrive/PATH_TO_SAMPLE_DATA\"\n",
        "dm = LocalDataManager(None)\n",
        "# get config\n",
        "cfg = load_config_data(\"/content/drive/MyDrive/PATH_TO_SAMPLE_DATA/config_sample.yaml\")\n",
        "print(cfg)"
      ]
    },
    {
      "cell_type": "code",
      "execution_count": null,
      "metadata": {
        "id": "dWSqH-dYLyDV"
      },
      "outputs": [],
      "source": [
        "def build_model(cfg: Dict) -> torch.nn.Module:\n",
        "    # load pre-trained Conv2D model\n",
        "    model = resnet50(pretrained=True)\n",
        "\n",
        "    # change input channels number to match the rasterizer's output\n",
        "    num_history_channels = (cfg[\"model_params\"][\"history_num_frames\"] + 1) * 2\n",
        "    num_in_channels = 3 + num_history_channels\n",
        "    model.conv1 = nn.Conv2d(\n",
        "        num_in_channels,\n",
        "        model.conv1.out_channels,\n",
        "        kernel_size=model.conv1.kernel_size,\n",
        "        stride=model.conv1.stride,\n",
        "        padding=model.conv1.padding,\n",
        "        bias=False,\n",
        "    )\n",
        "    # change output size to (X, Y) * number of future states\n",
        "    num_targets = 2 * cfg[\"model_params\"][\"future_num_frames\"]\n",
        "    model.fc = nn.Linear(in_features=2048, out_features=num_targets)\n",
        "    model = model.to(device)\n",
        "    return model"
      ]
    },
    {
      "cell_type": "code",
      "execution_count": null,
      "metadata": {
        "id": "VBzoczt8LyDW"
      },
      "outputs": [],
      "source": [
        "def forward(data, model, device, criterion):\n",
        "    inputs = data[\"image\"].to(device)\n",
        "    target_availabilities = data[\"target_availabilities\"].unsqueeze(-1).to(device)\n",
        "    targets = data[\"target_positions\"].to(device)\n",
        "    # Forward pass\n",
        "    outputs = model(inputs).reshape(targets.shape)\n",
        "    loss = criterion(outputs, targets)\n",
        "    # not all the output steps are valid, but we can filter them out from the loss using availabilities\n",
        "    loss = loss * target_availabilities\n",
        "    loss = loss.mean()\n",
        "    return loss, outputs"
      ]
    },
    {
      "cell_type": "code",
      "execution_count": null,
      "metadata": {
        "id": "du6MVIB_LyDY",
        "colab": {
          "base_uri": "https://localhost:8080/",
          "height": 178,
          "referenced_widgets": [
            "1076c524b26743228bd877ac23930b21",
            "b8d312e2c3a84a95a6de6b5fa4d487a0",
            "6a4f7b8f86a147b0a169aaaf9098dc02",
            "b336c01283694be7a181cfde3428d5e4",
            "162aaf2925b748faad5b2ccc469a9e61",
            "a37376df7b164e5f965b5d335cd67453",
            "d87bda8105eb498b9188c621c0645fca",
            "e7a212d119344d0fa3fb928b0403aad2",
            "2ac70093d3bc46bcb6ffd013bdde8071",
            "d27d01d240894048befa90f1b79b3155",
            "1e4d3c374b53483998dd27866766d6be"
          ]
        },
        "outputId": "11af93e0-63b9-45b9-da65-11dcfb2cf01f"
      },
      "outputs": [
        {
          "output_type": "stream",
          "name": "stdout",
          "text": [
            "Using device: cuda\n"
          ]
        },
        {
          "output_type": "stream",
          "name": "stderr",
          "text": [
            "/usr/local/lib/python3.9/dist-packages/torchvision/models/_utils.py:208: UserWarning: The parameter 'pretrained' is deprecated since 0.13 and may be removed in the future, please use 'weights' instead.\n",
            "  warnings.warn(\n",
            "/usr/local/lib/python3.9/dist-packages/torchvision/models/_utils.py:223: UserWarning: Arguments other than a weight enum or `None` for 'weights' are deprecated since 0.13 and may be removed in the future. The current behavior is equivalent to passing `weights=ResNet50_Weights.IMAGENET1K_V1`. You can also use `weights=ResNet50_Weights.DEFAULT` to get the most up-to-date weights.\n",
            "  warnings.warn(msg)\n",
            "Downloading: \"https://download.pytorch.org/models/resnet50-0676ba61.pth\" to /root/.cache/torch/hub/checkpoints/resnet50-0676ba61.pth\n"
          ]
        },
        {
          "output_type": "display_data",
          "data": {
            "text/plain": [
              "  0%|          | 0.00/97.8M [00:00<?, ?B/s]"
            ],
            "application/vnd.jupyter.widget-view+json": {
              "version_major": 2,
              "version_minor": 0,
              "model_id": "1076c524b26743228bd877ac23930b21"
            }
          },
          "metadata": {}
        }
      ],
      "source": [
        "# ==== INIT MODEL\n",
        "device = torch.device('cuda' if torch.cuda.is_available() else 'cpu')\n",
        "print('Using device:', device)\n",
        "model = build_model(cfg)\n",
        "optimizer = optim.Adam(model.parameters(), lr=1e-3)\n",
        "criterion = nn.MSELoss(reduction=\"none\")"
      ]
    },
    {
      "cell_type": "code",
      "execution_count": null,
      "metadata": {
        "id": "er_1MNbcLyDW",
        "outputId": "004948d4-bdde-4ec0-c181-ec93c9239324",
        "colab": {
          "base_uri": "https://localhost:8080/"
        }
      },
      "outputs": [
        {
          "output_type": "stream",
          "name": "stdout",
          "text": [
            "+------------+------------+------------+---------------+-----------------+----------------------+----------------------+----------------------+---------------------+\n",
            "| Num Scenes | Num Frames | Num Agents | Num TR lights | Total Time (hr) | Avg Frames per Scene | Avg Agents per Frame | Avg Scene Time (sec) | Avg Frame frequency |\n",
            "+------------+------------+------------+---------------+-----------------+----------------------+----------------------+----------------------+---------------------+\n",
            "|    100     |   24838    |  1893736   |     316008    |       0.69      |        248.38        |        76.24         |        24.83         |        10.00        |\n",
            "+------------+------------+------------+---------------+-----------------+----------------------+----------------------+----------------------+---------------------+\n"
          ]
        },
        {
          "output_type": "stream",
          "name": "stderr",
          "text": [
            "/usr/local/lib/python3.9/dist-packages/torch/utils/data/dataloader.py:554: UserWarning: This DataLoader will create 16 worker processes in total. Our suggested max number of worker in current system is 2, which is smaller than what this DataLoader is going to create. Please be aware that excessive worker creation might get DataLoader running slow or even freeze, lower the worker number to avoid potential slowness/freeze if necessary.\n",
            "  warnings.warn(_create_warning_msg(\n"
          ]
        }
      ],
      "source": [
        "# ===== INIT DATASET\n",
        "train_cfg = cfg[\"train_data_loader\"]\n",
        "rasterizer = build_rasterizer(cfg, dm)\n",
        "train_zarr = ChunkedDataset(dm.require(train_cfg[\"key\"])).open()\n",
        "dataset = AgentDataset(cfg, train_zarr, rasterizer)\n",
        "\n",
        "train_size = int(0.9 * len(dataset))\n",
        "test_size = len(dataset) - train_size\n",
        "\n",
        "# Randomly split the dataset\n",
        "tr_dataset, test_dataset = random_split(dataset, [train_size, test_size])\n",
        "\n",
        "train_dataloader = DataLoader(tr_dataset, shuffle=train_cfg[\"shuffle\"], batch_size=train_cfg[\"batch_size\"], \n",
        "                             num_workers=train_cfg[\"num_workers\"])\n",
        "test_dataloader = DataLoader(test_dataset, shuffle=train_cfg[\"shuffle\"], batch_size=train_cfg[\"batch_size\"], \n",
        "                             num_workers=train_cfg[\"num_workers\"])\n",
        "print(dataset)"
      ]
    },
    {
      "cell_type": "markdown",
      "metadata": {
        "id": "NF4dpGWZLyDZ"
      },
      "source": [
        "# Training\n",
        "\n"
      ]
    },
    {
      "cell_type": "code",
      "execution_count": null,
      "metadata": {
        "id": "bvU_JVxPLyDa",
        "colab": {
          "base_uri": "https://localhost:8080/"
        },
        "outputId": "797fbbe9-6452-43a2-8fe7-1d3b5a41bfc4"
      },
      "outputs": [
        {
          "metadata": {
            "tags": null
          },
          "name": "stdout",
          "output_type": "stream",
          "text": [
            "6280\n"
          ]
        },
        {
          "output_type": "stream",
          "name": "stderr",
          "text": [
            "batch_loss: 1.6667643785476685 loss(avg): 12.291183389870413: 100%|██████████| 6280/6280 [54:30<00:00,  1.92it/s]\n"
          ]
        }
      ],
      "source": [
        "# ==== TRAIN LOOP\n",
        "num_batches = len(train_dataloader)\n",
        "print(num_batches)\n",
        "tr_it = iter(train_dataloader)\n",
        "progress_bar = tqdm(range(num_batches))\n",
        "losses_train = []\n",
        "avg_loss = []\n",
        "for _ in progress_bar:\n",
        "    try:\n",
        "        data = next(tr_it)\n",
        "    except StopIteration:\n",
        "        tr_it = iter(train_dataloader)\n",
        "        data = next(tr_it)\n",
        "    #model.train()\n",
        "    #torch.set_grad_enabled(True)\n",
        "    loss, _ = forward(data, model, device, criterion)\n",
        "\n",
        "    # Backward pass\n",
        "    optimizer.zero_grad()\n",
        "    loss.backward()\n",
        "    optimizer.step()\n",
        "\n",
        "    losses_train.append(loss.item())\n",
        "    avg_loss.append(np.mean(losses_train))\n",
        "    progress_bar.set_description(f\"batch_loss: {loss.item()} loss(avg): {np.mean(losses_train)}\")"
      ]
    },
    {
      "cell_type": "code",
      "source": [
        "SAVE_PATH = \"/content/drive/MyDrive/MODEL_RESNET50/trained_resnet_50.pth\"\n",
        "torch.save(model.state_dict(),SAVE_PATH)"
      ],
      "metadata": {
        "id": "-i5q_7Snfi3s"
      },
      "execution_count": null,
      "outputs": []
    },
    {
      "cell_type": "markdown",
      "metadata": {
        "id": "stC8FObNLyDa"
      },
      "source": [
        "### Plot Loss Curve\n",
        "We can plot the train loss against the iterations (batch-wise)"
      ]
    },
    {
      "cell_type": "code",
      "execution_count": null,
      "metadata": {
        "id": "x0BjuD_TLyDa",
        "colab": {
          "base_uri": "https://localhost:8080/",
          "height": 430
        },
        "outputId": "80d3fde6-f939-4a89-fbba-108c9d9cbe0f"
      },
      "outputs": [
        {
          "output_type": "display_data",
          "data": {
            "text/plain": [
              "<Figure size 640x480 with 1 Axes>"
            ],
            "image/png": "[encoded data removed]"
          },
          "metadata": {}
        }
      ],
      "source": [
        "plt.plot(np.arange(len(avg_loss)), avg_loss, label=\"Average training loss\")\n",
        "plt.legend()\n",
        "plt.show()"
      ]
    },
    {
      "cell_type": "markdown",
      "source": [
        "## Testing"
      ],
      "metadata": {
        "id": "odA_XQRadc14"
      }
    },
    {
      "cell_type": "code",
      "source": [
        "# load trained model\n",
        "SAVE_PATH = \"/content/drive/MyDrive/MODEL_RESNET50/trained_resnet_50.pth\"\n",
        "model = build_model(cfg)\n",
        "model.load_state_dict(torch.load(SAVE_PATH))\n",
        "model = model.to(device)"
      ],
      "metadata": {
        "id": "Xw1fp8WqjRM_"
      },
      "execution_count": null,
      "outputs": []
    },
    {
      "cell_type": "code",
      "source": [
        "# Evaluate the model on the test set\n",
        "tr_it = iter(test_dataloader)\n",
        "progress_bar = tqdm(range(len(test_dataloader)))\n",
        "model.eval()\n",
        "torch.set_grad_enabled(False)\n",
        "losses_test = []\n",
        "avgTest_loss = []\n",
        "for _ in progress_bar:\n",
        "    try:\n",
        "        data = next(tr_it)\n",
        "    except StopIteration:\n",
        "        tr_it = iter(train_dataloader)\n",
        "        data = next(tr_it)\n",
        "    loss, _ = forward(data, model, device, criterion)\n",
        "    losses_test.append(loss.item())\n",
        "    avgTest_loss.append(np.mean(losses_test))\n",
        "    progress_bar.set_description(f\"Batch loss: {loss.item()} loss(avg): {np.mean(losses_test)}\")"
      ],
      "metadata": {
        "id": "npoBHwM4dest"
      },
      "execution_count": null,
      "outputs": []
    },
    {
      "cell_type": "markdown",
      "source": [
        "## Plot Testing Loss"
      ],
      "metadata": {
        "id": "_7TELbDJjuM3"
      }
    },
    {
      "cell_type": "code",
      "source": [
        "plt.plot(np.arange(len(avgTest_loss)), avgTest_loss, label=\"Average testing loss\")\n",
        "plt.legend()\n",
        "plt.show()"
      ],
      "metadata": {
        "colab": {
          "base_uri": "https://localhost:8080/",
          "height": 430
        },
        "id": "KKAIb8xzjxqi",
        "outputId": "c33af4b1-5120-4a7c-a0a5-1a5e2988d416"
      },
      "execution_count": null,
      "outputs": [
        {
          "output_type": "display_data",
          "data": {
            "text/plain": [
              "<Figure size 640x480 with 1 Axes>"
            ],
            "image/png": "[encoded data removed]"
          },
          "metadata": {}
        }
      ]
    },
    {
      "cell_type": "markdown",
      "source": [
        "## Visualising Results"
      ],
      "metadata": {
        "id": "e0pNIvsjkk0j"
      }
    },
    {
      "cell_type": "code",
      "source": [
        "sample_idx = np.random.randint(0,100)\n",
        "sample_data = test_dataset[sample_idx]\n",
        "img = sample_data[\"image\"].transpose(1,2,0)\n",
        "img = dataset.rasterizer.to_rgb(img)\n",
        "\n",
        "target_positions = sample_data[\"target_positions\"]\n",
        "out_net = model(torch.from_numpy(sample_data[\"image\"]).unsqueeze(0).to(device))\n",
        "out_pos = out_net[0].reshape(-1, 2).detach().cpu().numpy()\n",
        "print(out_pos.shape)\n",
        "\n",
        "predicted_positions = []\n",
        "target_positions = []\n",
        "# store absolute world coordinates\n",
        "predicted_positions.append(transform_points(out_pos, sample_data[\"world_from_agent\"]))\n",
        "# retrieve target positions from the GT and store as absolute coordinates\n",
        "#target_positions.append(sample_data['target_positions'] + sample_data[\"centroid\"][:2])\n",
        "target_positions.append(transform_points(sample_data['target_positions'], sample_data[\"world_from_agent\"]))\n",
        "\n",
        "predicted_positions = transform_points(np.concatenate(predicted_positions), sample_data[\"raster_from_world\"])\n",
        "target_positions = transform_points(np.concatenate(target_positions), sample_data[\"raster_from_world\"])\n",
        "\n",
        "draw_trajectory(img, predicted_positions, PREDICTED_POINTS_COLOR)\n",
        "draw_trajectory(img, target_positions, TARGET_POINTS_COLOR)\n",
        "\n",
        "plt.imshow(img)\n",
        "plt.show()"
      ],
      "metadata": {
        "colab": {
          "base_uri": "https://localhost:8080/",
          "height": 452
        },
        "id": "HMDID7ipwnZ9",
        "outputId": "70aeeb12-8fb8-4810-f642-8a11a7dca75a"
      },
      "execution_count": null,
      "outputs": [
        {
          "output_type": "stream",
          "name": "stdout",
          "text": [
            "(50, 2)\n"
          ]
        },
        {
          "output_type": "display_data",
          "data": {
            "text/plain": [
              "<Figure size 640x480 with 1 Axes>"
            ],
            "image/png": "[encoded data removed]"
          },
          "metadata": {}
        }
      ]
    }
  ],
  "metadata": {
    "kernelspec": {
      "display_name": "Python 3",
      "language": "python",
      "name": "python3"
    },
    "language_info": {
      "codemirror_mode": {
        "name": "ipython",
        "version": 3
      },
      "file_extension": ".py",
      "mimetype": "text/x-python",
      "name": "python",
      "nbconvert_exporter": "python",
      "pygments_lexer": "ipython3",
      "version": "3.8.3"
    },
    "pycharm": {
      "stem_cell": {
        "cell_type": "raw",
        "metadata": {
          "collapsed": false
        },
        "source": []
      }
    },
    "colab": {
      "provenance": [],
      "machine_shape": "hm",
      "include_colab_link": true
    },
    "accelerator": "GPU",
    "gpuClass": "standard",
    "widgets": {
      "application/vnd.jupyter.widget-state+json": {
        "1076c524b26743228bd877ac23930b21": {
          "model_module": "@jupyter-widgets/controls",
          "model_name": "HBoxModel",
          "model_module_version": "1.5.0",
          "state": {
            "_dom_classes": [],
            "_model_module": "@jupyter-widgets/controls",
            "_model_module_version": "1.5.0",
            "_model_name": "HBoxModel",
            "_view_count": null,
            "_view_module": "@jupyter-widgets/controls",
            "_view_module_version": "1.5.0",
            "_view_name": "HBoxView",
            "box_style": "",
            "children": [
              "IPY_MODEL_b8d312e2c3a84a95a6de6b5fa4d487a0",
              "IPY_MODEL_6a4f7b8f86a147b0a169aaaf9098dc02",
              "IPY_MODEL_b336c01283694be7a181cfde3428d5e4"
            ],
            "layout": "IPY_MODEL_162aaf2925b748faad5b2ccc469a9e61"
          }
        },
        "b8d312e2c3a84a95a6de6b5fa4d487a0": {
          "model_module": "@jupyter-widgets/controls",
          "model_name": "HTMLModel",
          "model_module_version": "1.5.0",
          "state": {
            "_dom_classes": [],
            "_model_module": "@jupyter-widgets/controls",
            "_model_module_version": "1.5.0",
            "_model_name": "HTMLModel",
            "_view_count": null,
            "_view_module": "@jupyter-widgets/controls",
            "_view_module_version": "1.5.0",
            "_view_name": "HTMLView",
            "description": "",
            "description_tooltip": null,
            "layout": "IPY_MODEL_a37376df7b164e5f965b5d335cd67453",
            "placeholder": "​",
            "style": "IPY_MODEL_d87bda8105eb498b9188c621c0645fca",
            "value": "100%"
          }
        },
        "6a4f7b8f86a147b0a169aaaf9098dc02": {
          "model_module": "@jupyter-widgets/controls",
          "model_name": "FloatProgressModel",
          "model_module_version": "1.5.0",
          "state": {
            "_dom_classes": [],
            "_model_module": "@jupyter-widgets/controls",
            "_model_module_version": "1.5.0",
            "_model_name": "FloatProgressModel",
            "_view_count": null,
            "_view_module": "@jupyter-widgets/controls",
            "_view_module_version": "1.5.0",
            "_view_name": "ProgressView",
            "bar_style": "success",
            "description": "",
            "description_tooltip": null,
            "layout": "IPY_MODEL_e7a212d119344d0fa3fb928b0403aad2",
            "max": 102530333,
            "min": 0,
            "orientation": "horizontal",
            "style": "IPY_MODEL_2ac70093d3bc46bcb6ffd013bdde8071",
            "value": 102530333
          }
        },
        "b336c01283694be7a181cfde3428d5e4": {
          "model_module": "@jupyter-widgets/controls",
          "model_name": "HTMLModel",
          "model_module_version": "1.5.0",
          "state": {
            "_dom_classes": [],
            "_model_module": "@jupyter-widgets/controls",
            "_model_module_version": "1.5.0",
            "_model_name": "HTMLModel",
            "_view_count": null,
            "_view_module": "@jupyter-widgets/controls",
            "_view_module_version": "1.5.0",
            "_view_name": "HTMLView",
            "description": "",
            "description_tooltip": null,
            "layout": "IPY_MODEL_d27d01d240894048befa90f1b79b3155",
            "placeholder": "​",
            "style": "IPY_MODEL_1e4d3c374b53483998dd27866766d6be",
            "value": " 97.8M/97.8M [00:00&lt;00:00, 209MB/s]"
          }
        },
        "162aaf2925b748faad5b2ccc469a9e61": {
          "model_module": "@jupyter-widgets/base",
          "model_name": "LayoutModel",
          "model_module_version": "1.2.0",
          "state": {
            "_model_module": "@jupyter-widgets/base",
            "_model_module_version": "1.2.0",
            "_model_name": "LayoutModel",
            "_view_count": null,
            "_view_module": "@jupyter-widgets/base",
            "_view_module_version": "1.2.0",
            "_view_name": "LayoutView",
            "align_content": null,
            "align_items": null,
            "align_self": null,
            "border": null,
            "bottom": null,
            "display": null,
            "flex": null,
            "flex_flow": null,
            "grid_area": null,
            "grid_auto_columns": null,
            "grid_auto_flow": null,
            "grid_auto_rows": null,
            "grid_column": null,
            "grid_gap": null,
            "grid_row": null,
            "grid_template_areas": null,
            "grid_template_columns": null,
            "grid_template_rows": null,
            "height": null,
            "justify_content": null,
            "justify_items": null,
            "left": null,
            "margin": null,
            "max_height": null,
            "max_width": null,
            "min_height": null,
            "min_width": null,
            "object_fit": null,
            "object_position": null,
            "order": null,
            "overflow": null,
            "overflow_x": null,
            "overflow_y": null,
            "padding": null,
            "right": null,
            "top": null,
            "visibility": null,
            "width": null
          }
        },
        "a37376df7b164e5f965b5d335cd67453": {
          "model_module": "@jupyter-widgets/base",
          "model_name": "LayoutModel",
          "model_module_version": "1.2.0",
          "state": {
            "_model_module": "@jupyter-widgets/base",
            "_model_module_version": "1.2.0",
            "_model_name": "LayoutModel",
            "_view_count": null,
            "_view_module": "@jupyter-widgets/base",
            "_view_module_version": "1.2.0",
            "_view_name": "LayoutView",
            "align_content": null,
            "align_items": null,
            "align_self": null,
            "border": null,
            "bottom": null,
            "display": null,
            "flex": null,
            "flex_flow": null,
            "grid_area": null,
            "grid_auto_columns": null,
            "grid_auto_flow": null,
            "grid_auto_rows": null,
            "grid_column": null,
            "grid_gap": null,
            "grid_row": null,
            "grid_template_areas": null,
            "grid_template_columns": null,
            "grid_template_rows": null,
            "height": null,
            "justify_content": null,
            "justify_items": null,
            "left": null,
            "margin": null,
            "max_height": null,
            "max_width": null,
            "min_height": null,
            "min_width": null,
            "object_fit": null,
            "object_position": null,
            "order": null,
            "overflow": null,
            "overflow_x": null,
            "overflow_y": null,
            "padding": null,
            "right": null,
            "top": null,
            "visibility": null,
            "width": null
          }
        },
        "d87bda8105eb498b9188c621c0645fca": {
          "model_module": "@jupyter-widgets/controls",
          "model_name": "DescriptionStyleModel",
          "model_module_version": "1.5.0",
          "state": {
            "_model_module": "@jupyter-widgets/controls",
            "_model_module_version": "1.5.0",
            "_model_name": "DescriptionStyleModel",
            "_view_count": null,
            "_view_module": "@jupyter-widgets/base",
            "_view_module_version": "1.2.0",
            "_view_name": "StyleView",
            "description_width": ""
          }
        },
        "e7a212d119344d0fa3fb928b0403aad2": {
          "model_module": "@jupyter-widgets/base",
          "model_name": "LayoutModel",
          "model_module_version": "1.2.0",
          "state": {
            "_model_module": "@jupyter-widgets/base",
            "_model_module_version": "1.2.0",
            "_model_name": "LayoutModel",
            "_view_count": null,
            "_view_module": "@jupyter-widgets/base",
            "_view_module_version": "1.2.0",
            "_view_name": "LayoutView",
            "align_content": null,
            "align_items": null,
            "align_self": null,
            "border": null,
            "bottom": null,
            "display": null,
            "flex": null,
            "flex_flow": null,
            "grid_area": null,
            "grid_auto_columns": null,
            "grid_auto_flow": null,
            "grid_auto_rows": null,
            "grid_column": null,
            "grid_gap": null,
            "grid_row": null,
            "grid_template_areas": null,
            "grid_template_columns": null,
            "grid_template_rows": null,
            "height": null,
            "justify_content": null,
            "justify_items": null,
            "left": null,
            "margin": null,
            "max_height": null,
            "max_width": null,
            "min_height": null,
            "min_width": null,
            "object_fit": null,
            "object_position": null,
            "order": null,
            "overflow": null,
            "overflow_x": null,
            "overflow_y": null,
            "padding": null,
            "right": null,
            "top": null,
            "visibility": null,
            "width": null
          }
        },
        "2ac70093d3bc46bcb6ffd013bdde8071": {
          "model_module": "@jupyter-widgets/controls",
          "model_name": "ProgressStyleModel",
          "model_module_version": "1.5.0",
          "state": {
            "_model_module": "@jupyter-widgets/controls",
            "_model_module_version": "1.5.0",
            "_model_name": "ProgressStyleModel",
            "_view_count": null,
            "_view_module": "@jupyter-widgets/base",
            "_view_module_version": "1.2.0",
            "_view_name": "StyleView",
            "bar_color": null,
            "description_width": ""
          }
        },
        "d27d01d240894048befa90f1b79b3155": {
          "model_module": "@jupyter-widgets/base",
          "model_name": "LayoutModel",
          "model_module_version": "1.2.0",
          "state": {
            "_model_module": "@jupyter-widgets/base",
            "_model_module_version": "1.2.0",
            "_model_name": "LayoutModel",
            "_view_count": null,
            "_view_module": "@jupyter-widgets/base",
            "_view_module_version": "1.2.0",
            "_view_name": "LayoutView",
            "align_content": null,
            "align_items": null,
            "align_self": null,
            "border": null,
            "bottom": null,
            "display": null,
            "flex": null,
            "flex_flow": null,
            "grid_area": null,
            "grid_auto_columns": null,
            "grid_auto_flow": null,
            "grid_auto_rows": null,
            "grid_column": null,
            "grid_gap": null,
            "grid_row": null,
            "grid_template_areas": null,
            "grid_template_columns": null,
            "grid_template_rows": null,
            "height": null,
            "justify_content": null,
            "justify_items": null,
            "left": null,
            "margin": null,
            "max_height": null,
            "max_width": null,
            "min_height": null,
            "min_width": null,
            "object_fit": null,
            "object_position": null,
            "order": null,
            "overflow": null,
            "overflow_x": null,
            "overflow_y": null,
            "padding": null,
            "right": null,
            "top": null,
            "visibility": null,
            "width": null
          }
        },
        "1e4d3c374b53483998dd27866766d6be": {
          "model_module": "@jupyter-widgets/controls",
          "model_name": "DescriptionStyleModel",
          "model_module_version": "1.5.0",
          "state": {
            "_model_module": "@jupyter-widgets/controls",
            "_model_module_version": "1.5.0",
            "_model_name": "DescriptionStyleModel",
            "_view_count": null,
            "_view_module": "@jupyter-widgets/base",
            "_view_module_version": "1.2.0",
            "_view_name": "StyleView",
            "description_width": ""
          }
        }
      }
    }
  },
  "nbformat": 4,
  "nbformat_minor": 0
}